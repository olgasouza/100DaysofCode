{
 "cells": [
  {
   "cell_type": "code",
   "execution_count": 1,
   "metadata": {},
   "outputs": [],
   "source": [
    "# DAY 10"
   ]
  },
  {
   "cell_type": "code",
   "execution_count": 6,
   "metadata": {},
   "outputs": [
    {
     "data": {
      "text/plain": [
       "'Olga Souza'"
      ]
     },
     "execution_count": 6,
     "metadata": {},
     "output_type": "execute_result"
    }
   ],
   "source": [
    "# EXERCISE 1 - FUNCTIONS WITH OUTPUT\n",
    "def format_name(f_name, l_name):\n",
    "    \"\"\"Takes a first and last name and format it \n",
    "    to return the title case version of the name\"\"\"\n",
    "    return f_name.title() + \" \" + l_name.title()\n",
    "\n",
    "format_name(\"oLgA\",\"sOuZa\")"
   ]
  },
  {
   "cell_type": "code",
   "execution_count": null,
   "metadata": {},
   "outputs": [],
   "source": [
    "# EXERCISE 2 - DAYS IN MONTH\n",
    "def is_leap(year):\n",
    "  if year % 4 == 0:\n",
    "    if year % 100 == 0:\n",
    "      if year % 400 == 0:\n",
    "        return True\n",
    "      else:\n",
    "        return False\n",
    "    else:\n",
    "      return True\n",
    "  else:\n",
    "    return False\n",
    "\n",
    "def days_in_month(year, month):\n",
    "    month_days = [31, 28, 31, 30, 31, 30, 31, 31, 30, 31, 30, 31]\n",
    "    if month > 12 or month < 1 or year < 0:\n",
    "        return \"Invalid input\"\n",
    "    if is_leap(year) and month == 2:\n",
    "        return 29\n",
    "    return month_days[month - 1]\n",
    "  \n",
    "  \n",
    "year = int(input(\"Enter a year: \"))\n",
    "month = int(input(\"Enter a month: \"))\n",
    "days = days_in_month(year, month)\n",
    "print(days)"
   ]
  },
  {
   "cell_type": "code",
   "execution_count": null,
   "metadata": {},
   "outputs": [],
   "source": [
    "# PROJECT 10 - CALCULATOR\n",
    "from subprocess import call\n",
    "import os\n",
    "# from art import logo\n",
    "\n",
    "logo = \"\"\"\n",
    " _____________________\n",
    "|  _________________  |\n",
    "| | Pythonista   0. | |  .----------------.  .----------------.  .----------------.  .----------------. \n",
    "| |_________________| | | .--------------. || .--------------. || .--------------. || .--------------. |\n",
    "|  ___ ___ ___   ___  | | |     ______   | || |      __      | || |   _____      | || |     ______   | |\n",
    "| | 7 | 8 | 9 | | + | | | |   .' ___  |  | || |     /  \\     | || |  |_   _|     | || |   .' ___  |  | |\n",
    "| |___|___|___| |___| | | |  / .'   \\_|  | || |    / /\\ \\    | || |    | |       | || |  / .'   \\_|  | |\n",
    "| | 4 | 5 | 6 | | - | | | |  | |         | || |   / ____ \\   | || |    | |   _   | || |  | |         | |\n",
    "| |___|___|___| |___| | | |  \\ `.___.'\\  | || | _/ /    \\ \\_ | || |   _| |__/ |  | || |  \\ `.___.'\\  | |\n",
    "| | 1 | 2 | 3 | | x | | | |   `._____.'  | || ||____|  |____|| || |  |________|  | || |   `._____.'  | |\n",
    "| |___|___|___| |___| | | |              | || |              | || |              | || |              | |\n",
    "| | . | 0 | = | | / | | | '--------------' || '--------------' || '--------------' || '--------------' |\n",
    "| |___|___|___| |___| |  '----------------'  '----------------'  '----------------'  '----------------' \n",
    "|_____________________|\n",
    "\"\"\"\n",
    "\n",
    "\n",
    "def clear():\n",
    "    _ = call('clear' if os.name == 'posix' else 'cls')\n",
    "\n",
    "def add(n1, n2):\n",
    "    return n1 + n2\n",
    "\n",
    "def subtract(n1, n2):\n",
    "    return n1 - n2\n",
    "\n",
    "def multiply(n1, n2):\n",
    "    return n1 * n2\n",
    "\n",
    "def divide(n1, n2):\n",
    "    return n1 / n2\n",
    "\n",
    "operations = {\n",
    "    \"+\":add,\n",
    "    \"-\":subtract,\n",
    "    \"*\":multiply,\n",
    "    \"/\":divide\n",
    "}\n",
    "\n",
    "def calculator():\n",
    "    print(logo)\n",
    "    num1 = float(input(\"\\nWhat's the number?: \"))\n",
    "\n",
    "    for item in operations:\n",
    "        print(item)\n",
    "        \n",
    "    calculator_off = False\n",
    "    while not calculator_off:\n",
    "        operation_symbol = input(\"Pick an operation: \")\n",
    "\n",
    "        num2 = float(input(\"What's the next number?: \"))\n",
    "\n",
    "        function = operations[operation_symbol]\n",
    "        answer = function(num1, num2)\n",
    "        print(f\"{num1} {operation_symbol} {num2} = {answer}\")\n",
    "\n",
    "        should_continue = input(f\"Type 'y' to continue calculating with {answer}, 'c' to clear calculations, or 'n' to exit: \").lower()\n",
    "        print('\\n')\n",
    "            \n",
    "        if should_continue == \"y\":\n",
    "            num1 = answer\n",
    "        \n",
    "        elif should_continue == \"c\":\n",
    "            clear()\n",
    "            calculator_off = True\n",
    "            calculator()\n",
    "\n",
    "        else:\n",
    "            calculator_off = True\n",
    "            print(\"\\nGoodbye\")\n",
    "            \n",
    "calculator()"
   ]
  }
 ],
 "metadata": {
  "kernelspec": {
   "display_name": "Python 3.10.6 64-bit",
   "language": "python",
   "name": "python3"
  },
  "language_info": {
   "codemirror_mode": {
    "name": "ipython",
    "version": 3
   },
   "file_extension": ".py",
   "mimetype": "text/x-python",
   "name": "python",
   "nbconvert_exporter": "python",
   "pygments_lexer": "ipython3",
   "version": "3.10.6"
  },
  "orig_nbformat": 4,
  "vscode": {
   "interpreter": {
    "hash": "6b081e19b008d92a32127addf550788886dd0edf34515adf0070e9984498c528"
   }
  }
 },
 "nbformat": 4,
 "nbformat_minor": 2
}
