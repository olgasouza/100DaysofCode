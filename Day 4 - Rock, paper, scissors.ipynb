{
 "cells": [
  {
   "cell_type": "code",
   "execution_count": 1,
   "metadata": {},
   "outputs": [],
   "source": [
    "# DAY 4"
   ]
  },
  {
   "cell_type": "code",
   "execution_count": null,
   "metadata": {},
   "outputs": [],
   "source": [
    "# EXERCISE 1 - HEADS OR TAILS\n",
    "import random\n",
    "import time\n",
    "\n",
    "print(\"===Let's play Heads or Tails?===\")\n",
    "answer = input(\"Which do you choose? H or T?: \").upper()\n",
    "\n",
    "print(\"\\nThe coin has been tossed...\\n\")\n",
    "\n",
    "time.sleep(2)\n",
    "random_number = random.randint(0,1)\n",
    "if random_number == 0:\n",
    "    if answer == \"T\":\n",
    "        print(\"Tails! You won!! :D\")\n",
    "    else:\n",
    "        print(\"Tails... You lost :(\")\n",
    "else:\n",
    "    if answer == \"H\":\n",
    "        print(\"Heads! You won!! :D\")\n",
    "    else:\n",
    "        print(\"Heads... You lost :(\")"
   ]
  },
  {
   "cell_type": "code",
   "execution_count": null,
   "metadata": {},
   "outputs": [],
   "source": [
    "# EXERCISE 2 - WHO'S PAYING THE BILL?\n",
    "names_string = input(\"Give me everybody's names, separated by a comma. \")\n",
    "names = names_string.split(\", \")\n",
    "\n",
    "length_list = len(names)\n",
    "random_numb = random.randint(0,length_list - 1)\n",
    "buyer = names[random_numb]\n",
    "print(f\"{buyer} is going to buy the meal today!\")\n",
    "\n",
    "# OR\n",
    "\n",
    "buyer = random.choice(names)\n",
    "print(buyer + \" is going to buy the meal today!\")"
   ]
  },
  {
   "cell_type": "code",
   "execution_count": null,
   "metadata": {},
   "outputs": [],
   "source": [
    "# EXERCISE 3 - TREASURE MAP\n",
    "row1 = [\"⬜️\",\"️⬜️\",\"️⬜️\"]\n",
    "row2 = [\"⬜️\",\"⬜️\",\"️⬜️\"]\n",
    "row3 = [\"⬜️️\",\"⬜️️\",\"⬜️️\"]\n",
    "map = [row1, row2, row3]\n",
    "print(f\"{row1}\\n{row2}\\n{row3}\")\n",
    "position = input(\"Where do you want to put the treasure? \")\n",
    "\n",
    "vertical = int(position[0]) - 1\n",
    "horizontal = int(position[1]) - 1\n",
    "\n",
    "map[horizontal][vertical] = \"X\"\n",
    "\n",
    "print(f\"{row1}\\n{row2}\\n{row3}\")"
   ]
  },
  {
   "cell_type": "code",
   "execution_count": null,
   "metadata": {},
   "outputs": [],
   "source": [
    "# PROJECT 4 - ROCK PAPER SCISSORS\n",
    "rock = '''\n",
    "    _______\n",
    "---'   ____)\n",
    "      (_____)\n",
    "      (_____)\n",
    "      (____)\n",
    "---.__(___)\n",
    "'''\n",
    "\n",
    "paper = '''\n",
    "    _______\n",
    "---'   ____)____\n",
    "          ______)\n",
    "          _______)\n",
    "         _______)\n",
    "---.__________)\n",
    "'''\n",
    "\n",
    "scissors = '''\n",
    "    _______\n",
    "---'   ____)____\n",
    "          ______)\n",
    "       __________)\n",
    "      (____)\n",
    "---.__(___)\n",
    "'''\n",
    "\n",
    "# The outcome of the game is determined by 3 simple rules:\n",
    "\n",
    "# Rock wins against scissors.\n",
    "# Scissors win against paper.\n",
    "# Paper wins against rock.\n",
    "\n",
    "import random \n",
    "\n",
    "print(\"===Rock, Paper or Scissors Game===\")\n",
    "\n",
    "moves = [rock, paper, scissors]\n",
    "player = int(input(\"Which do you choose? Rock (0), Paper (1) or Scissors (2)?: \"))\n",
    "computer = random.randint(0,2)\n",
    "\n",
    "print(\"You chose...\\n\" + moves[player])\n",
    "print(\"And the computer...\\n\" + moves[computer])\n",
    "\n",
    "if player == 0:\n",
    "    if computer == 2:\n",
    "        print(\"You won!\")\n",
    "    elif computer == 0:\n",
    "        print(\"It's a tie!\")\n",
    "    else:\n",
    "        print(\"You lost!\")\n",
    "\n",
    "if player == 1:\n",
    "    if computer == 0:\n",
    "        print(\"You won!\")\n",
    "    elif computer == 1:\n",
    "        print(\"It's a tie!\")\n",
    "    else:\n",
    "        print(\"You lost!\")\n",
    "\n",
    "if player == 2:\n",
    "    if computer == 1:\n",
    "        print(\"You won!\")\n",
    "    elif computer == 2:\n",
    "        print(\"It's a tie!\")\n",
    "    else:\n",
    "        print(\"You lost!\")"
   ]
  }
 ],
 "metadata": {
  "kernelspec": {
   "display_name": "Python 3.10.6 64-bit",
   "language": "python",
   "name": "python3"
  },
  "language_info": {
   "codemirror_mode": {
    "name": "ipython",
    "version": 3
   },
   "file_extension": ".py",
   "mimetype": "text/x-python",
   "name": "python",
   "nbconvert_exporter": "python",
   "pygments_lexer": "ipython3",
   "version": "3.10.6"
  },
  "orig_nbformat": 4,
  "vscode": {
   "interpreter": {
    "hash": "6b081e19b008d92a32127addf550788886dd0edf34515adf0070e9984498c528"
   }
  }
 },
 "nbformat": 4,
 "nbformat_minor": 2
}
