{
 "cells": [
  {
   "cell_type": "code",
   "execution_count": null,
   "metadata": {},
   "outputs": [],
   "source": [
    "# DAY 8"
   ]
  },
  {
   "cell_type": "code",
   "execution_count": null,
   "metadata": {},
   "outputs": [],
   "source": [
    "# EXERCISE 1 - PAINT AREA CALCULATOR\n",
    "import math\n",
    "def paint_calc(height, width, cover):\n",
    "    number_of_cans = (math.ceil((height * width) / cover))\n",
    "    print(f\"You'll need {number_of_cans} cans of paint.\")\n",
    "    \n",
    "test_h = int(input(\"Height of wall: \"))\n",
    "test_w = int(input(\"Width of wall: \"))\n",
    "coverage = 5\n",
    "paint_calc(height=test_h, width=test_w, cover=coverage)\n",
    "\n"
   ]
  },
  {
   "cell_type": "code",
   "execution_count": null,
   "metadata": {},
   "outputs": [],
   "source": [
    "# EXERCISE 2 - PRIME NUMBERS\n",
    "def prime_checker(number):\n",
    "    is_prime = True\n",
    "    for nm in range(2,number):\n",
    "        if number % nm == 0:\n",
    "            is_prime = False\n",
    "\n",
    "    if is_prime is True:\n",
    "        print(\"It's a prime number.\")\n",
    "    else:\n",
    "        print(\"It's not a prime number.\")\n",
    "\n",
    "\n",
    "n = int(input(\"Check this number: \"))\n",
    "prime_checker(number=n)"
   ]
  },
  {
   "cell_type": "code",
   "execution_count": null,
   "metadata": {},
   "outputs": [],
   "source": [
    "# PROJECT 8 - CAESAR CIPHER (Extended first version)\n",
    "\n",
    "alphabet = ['a', 'b', 'c', 'd', 'e', 'f', 'g', 'h', 'i', 'j', 'k', 'l', 'm', 'n', 'o', 'p', 'q', 'r', 's', 't', 'u', 'v', 'w', 'x', 'y', 'z']\n",
    "\n",
    "alphabet += alphabet\n",
    "direction = input(\"Type 'encode' to encrypt, type 'decode' to decrypt:\\n\")\n",
    "text = input(\"Type your message:\\n\").lower()\n",
    "shift = int(input(\"Type the shift number:\\n\"))\n",
    "\n",
    "def encrypt(plain_text, shift_amount):\n",
    "    encrypted_word = \"\"\n",
    "    for letter in plain_text:\n",
    "        position = alphabet.index(letter)\n",
    "        new_position = position + shift_amount\n",
    "        new_letter = alphabet[new_position]\n",
    "        encrypted_word += new_letter\n",
    "\n",
    "    print(\"\\nThe encoded text is \" + encrypted_word)\n",
    "\n",
    "def decrypt(plain_text, shift_amount):\n",
    "    decrypted_word = \"\"\n",
    "    for letter in plain_text:\n",
    "        position = alphabet.index(letter)\n",
    "        new_position = position - shift_amount\n",
    "        new_letter = alphabet[new_position]\n",
    "        decrypted_word += new_letter\n",
    "\n",
    "    print(\"\\nThe decoded text is \" + decrypted_word)\n",
    "\n",
    "if direction == \"decode\":\n",
    "    decrypt(plain_text=text, shift_amount=shift)\n",
    "else:\n",
    "    encrypt(plain_text=text, shift_amount=shift)\n",
    "        "
   ]
  },
  {
   "cell_type": "code",
   "execution_count": null,
   "metadata": {},
   "outputs": [],
   "source": [
    "# PROJECT 8 - CAESAR CIPHER (Final version)\n",
    "print(\"\"\"           \n",
    " ,adPPYba, ,adPPYYba,  ,adPPYba, ,adPPYba, ,adPPYYba, 8b,dPPYba,  \n",
    "a8\"     \"\" \"\"     `Y8 a8P_____88 I8[    \"\" \"\"     `Y8 88P'   \"Y8  \n",
    "8b         ,adPPPPP88 8PP\"\"\"\"\"\"\"  `\"Y8ba,  ,adPPPPP88 88          \n",
    "\"8a,   ,aa 88,    ,88 \"8b,   ,aa aa    ]8I 88,    ,88 88          \n",
    " `\"Ybbd8\"' `\"8bbdP\"Y8  `\"Ybbd8\"' `\"YbbdP\"' `\"8bbdP\"Y8 88   \n",
    "            88             88                                 \n",
    "           \"\"             88                                 \n",
    "                          88                                 \n",
    " ,adPPYba, 88 8b,dPPYba,  88,dPPYba,   ,adPPYba, 8b,dPPYba,  \n",
    "a8\"     \"\" 88 88P'    \"8a 88P'    \"8a a8P_____88 88P'   \"Y8  \n",
    "8b         88 88       d8 88       88 8PP\"\"\"\"\"\"\" 88          \n",
    "\"8a,   ,aa 88 88b,   ,a8\" 88       88 \"8b,   ,aa 88          \n",
    " `\"Ybbd8\"' 88 88`YbbdP\"'  88       88  `\"Ybbd8\"' 88          \n",
    "              88                                             \n",
    "              88           \n",
    "\"\"\")\n",
    "\n",
    "\n",
    "alphabet = ['a', 'b', 'c', 'd', 'e', 'f', 'g', 'h', 'i', 'j', 'k', 'l', 'm', 'n', 'o', 'p', 'q', 'r', 's', 't', 'u', 'v', 'w', 'x', 'y', 'z']\n",
    "\n",
    "def caesar(plain_text, shift_amount, cipher_direction):\n",
    "\n",
    "    final_text = \"\"\n",
    "    if cipher_direction == \"decode\":\n",
    "        shift_amount *= -1\n",
    "    for char in plain_text:\n",
    "        if char in alphabet:\n",
    "            position = alphabet.index(char)\n",
    "            new_position = position + shift_amount\n",
    "            new_char = alphabet[new_position]\n",
    "            final_text += new_char\n",
    "\n",
    "        else:\n",
    "            final_text += char\n",
    "\n",
    "    print(f\"\\nThe {cipher_direction}d text is {final_text}\")\n",
    "\n",
    "should_end = False\n",
    "while not should_end:\n",
    "    direction = input(\"\\nType 'encode' to encrypt, type 'decode' to decrypt:\\n\")\n",
    "    text = input(\"Type your message:\\n\").lower()\n",
    "    shift = int(input(\"Type the shift number:\\n\"))\n",
    "    shift = shift % 26\n",
    "\n",
    "    caesar(plain_text=text, shift_amount=shift, cipher_direction=direction)\n",
    "\n",
    "    restart = input(\"Type 'yes' if you want to go again. Otherwise type 'no': \").lower()\n",
    "    if restart == 'no':\n",
    "        should_end = True\n",
    "        print(\"Goodbye\")"
   ]
  }
 ],
 "metadata": {
  "kernelspec": {
   "display_name": "Python 3.9.12 ('base')",
   "language": "python",
   "name": "python3"
  },
  "language_info": {
   "codemirror_mode": {
    "name": "ipython",
    "version": 3
   },
   "file_extension": ".py",
   "mimetype": "text/x-python",
   "name": "python",
   "nbconvert_exporter": "python",
   "pygments_lexer": "ipython3",
   "version": "3.9.12"
  },
  "orig_nbformat": 4,
  "vscode": {
   "interpreter": {
    "hash": "6f5583cf1d9466b5c27e75c89cc6b383bed5736d6b16c51c8074d8690011a952"
   }
  }
 },
 "nbformat": 4,
 "nbformat_minor": 2
}
