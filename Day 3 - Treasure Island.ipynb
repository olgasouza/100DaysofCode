{
 "cells": [
  {
   "cell_type": "code",
   "execution_count": 1,
   "metadata": {},
   "outputs": [],
   "source": [
    "# DAY 3"
   ]
  },
  {
   "cell_type": "code",
   "execution_count": null,
   "metadata": {},
   "outputs": [],
   "source": [
    "# EXERCISE 1 - ODD OR EVEN\n",
    "number = int(input(\"Which number do you want to check? \"))\n",
    "remainder = number % 2\n",
    "if remainder == 0:\n",
    "    print(\"This is an even number.\")\n",
    "else:\n",
    "    print(\"This is an odd number.\")"
   ]
  },
  {
   "cell_type": "code",
   "execution_count": null,
   "metadata": {},
   "outputs": [],
   "source": [
    "# EXERCISE 2 - BMI 2.0\n",
    "height = float(input(\"enter your height in m: \"))\n",
    "weight = float(input(\"enter your weight in kg: \"))\n",
    "\n",
    "BMI = round(weight / (height**2))\n",
    "if BMI <= 18.5:\n",
    "    print(f\"Your BMI is {BMI}, you are underweight.\")\n",
    "elif BMI <= 25:\n",
    "    print(f\"Your BMI is {BMI}, you have a normal weight.\")\n",
    "elif BMI <= 30:\n",
    "    print(f\"Your BMI is {BMI}, you are slightly overweight.\")\n",
    "elif BMI <= 35:\n",
    "    print(f\"Your BMI is {BMI}, you are obese.\")\n",
    "else:\n",
    "    print(f\"Your BMI is {BMI}, you are clinically obese.\")"
   ]
  },
  {
   "cell_type": "code",
   "execution_count": null,
   "metadata": {},
   "outputs": [],
   "source": [
    "# EXERCISE 3 - LEAP YEAR\n",
    "year = int(input(\"Which year do you want to check? \"))\n",
    "\n",
    "cd1 = year % 4\n",
    "cd2 = year % 100\n",
    "cd3 = year % 400\n",
    "\n",
    "if cd1 == 0:\n",
    "    if cd2 == 0:\n",
    "        if cd3 == 0:\n",
    "            print(\"Leap year.\")\n",
    "        else:\n",
    "            print(\"Not leap year.\")\n",
    "    else:\n",
    "        print(\"Leap year.\")\n",
    "else:\n",
    "    print(\"Not leap year.\")\n"
   ]
  },
  {
   "cell_type": "code",
   "execution_count": null,
   "metadata": {},
   "outputs": [],
   "source": [
    "# EXERCISE 4 - PIZZA ORDER\n",
    "print(\"====Welcome to Python Pizza Deliveries!====\")\n",
    "size = input(\"\\nWhat size pizza do you want? S, M, or L: \").upper()\n",
    "add_pepperoni = input(\"Do you want pepperoni? Y or N: \").upper()\n",
    "extra_cheese = input(\"Do you want extra cheese? Y or N: \").upper()\n",
    "\n",
    "bill = 0\n",
    "if size == 'S':\n",
    "    bill += 15\n",
    "elif size == 'M':\n",
    "    bill += 20\n",
    "else:\n",
    "    bill += 25\n",
    "\n",
    "if add_pepperoni == 'Y':\n",
    "    if size == 'S':\n",
    "        bill += 2\n",
    "    else:\n",
    "        bill += 3\n",
    "\n",
    "if extra_cheese == 'Y':\n",
    "    bill += 1\n",
    "\n",
    "print(f\"\\nYour final bill is: ${bill}.\")"
   ]
  },
  {
   "cell_type": "code",
   "execution_count": null,
   "metadata": {},
   "outputs": [],
   "source": [
    "# EXERCISE 5 - LOVE CALCULATOR\n",
    "print(\"===Welcome to the Love Calculator!===\")\n",
    "name1 = input(\"What is your name? \\n\").lower()\n",
    "name2 = input(\"What is their name? \\n\").lower()\n",
    "\n",
    "combined = name1 + name2\n",
    "\n",
    "# Counting \"T R U E\"\n",
    "nt = combined.count('t')\n",
    "nr = combined.count('r')\n",
    "nu = combined.count('u')\n",
    "ne = combined.count('e')\n",
    "\n",
    "total1 = str(nt + nr + nu + ne)\n",
    "\n",
    "# Counting \"L O V E\"\n",
    "ln = combined.count('l')\n",
    "on = combined.count('o')\n",
    "vn = combined.count('v')\n",
    "en = combined.count('e')\n",
    "\n",
    "total2 = str(ln + on + vn + en)\n",
    "\n",
    "# ======\n",
    "\n",
    "love_score = int(total1 + total2)\n",
    "if love_score < 10 or love_score > 90:\n",
    "    print(f\"\\nYour love score is {love_score}, you go together like coke and mentos.\")\n",
    "elif love_score > 40 and love_score < 50:\n",
    "    print(f\"\\nYour love score is {love_score}, you are alright together.\")\n",
    "else: \n",
    "    print(f\"\\nYour love score is {love_score}, interesting...\")\n"
   ]
  },
  {
   "cell_type": "code",
   "execution_count": null,
   "metadata": {},
   "outputs": [],
   "source": [
    "# PROJECT 3 - TREASURE ISLAND\n",
    "print('''\n",
    "*******************************************************************************\n",
    "          |                   |                  |                     |\n",
    " _________|________________.=\"\"_;=.______________|_____________________|_______\n",
    "|                   |  ,-\"_,=\"\"     `\"=.|                  |\n",
    "|___________________|__\"=._o`\"-._        `\"=.______________|___________________\n",
    "          |                `\"=._o`\"=._      _`\"=._                     |\n",
    " _________|_____________________:=._o \"=._.\"_.-=\"'\"=.__________________|_______\n",
    "|                   |    __.--\" , ; `\"=._o.\" ,-\"\"\"-._ \".   |\n",
    "|___________________|_._\"  ,. .` ` `` ,  `\"-._\"-._   \". '__|___________________\n",
    "          |           |o`\"=._` , \"` `; .\". ,  \"-._\"-._; ;              |\n",
    " _________|___________| ;`-.o`\"=._; .\" ` '`.\"\\` . \"-._ /_______________|_______\n",
    "|                   | |o;    `\"-.o`\"=._``  '` \" ,__.--o;   |\n",
    "|___________________|_| ;     (#) `-.o `\"=.`_.--\"_o.-; ;___|___________________\n",
    "____/______/______/___|o;._    \"      `\".o|o_.--\"    ;o;____/______/______/____\n",
    "/______/______/______/_\"=._o--._        ; | ;        ; ;/______/______/______/_\n",
    "____/______/______/______/__\"=._o--._   ;o|o;     _._;o;____/______/______/____\n",
    "/______/______/______/______/____\"=._o._; | ;_.--\"o.--\"_/______/______/______/_\n",
    "____/______/______/______/______/_____\"=.o|o_.--\"\"___/______/______/______/____\n",
    "/______/______/______/______/______/______/______/______/______/______/[TomekK]\n",
    "*******************************************************************************''')\n",
    "\n",
    "\n",
    "print(\"\\n\\n===WELCOME TO TREASURE ISLAND!===\\nYour mission is to find the treasure! Lets do this!\")\n",
    "print(\"\\nYou finally arrive at the magic island, anxious to find out if the rumours are true...\\nthat somewhere in that island is a treasure chest full of gold...\\n\")\n",
    "\n",
    "cd1 = input(\"Entering the jungle, you see two possible paths you can take, which one will you choose, left or right?: \").lower()\n",
    "if cd1 == \"left\":\n",
    "    cd2 = input(\"\\nYou reach a lake. Will you swim or look for a boat? type swim or boat: \").lower()\n",
    "    if cd2 == \"boat\":\n",
    "        print(\"\\nYou actually found more than one hidden away near the trees! But that also means you are not alone...\")\n",
    "        cd3 = input(\"You reach the other side of the lake and see footprints going into a cave. Do you go in? Y or N: \").lower()\n",
    "        if cd3 == \"y\":\n",
    "            cd4 = input(\"\\nYou find tree different doors inside the cave, each with a different color. Do you choose red, blue or yellow?: \").lower()\n",
    "            if cd4 == \"blue\":\n",
    "                print(\"\\nYou found the treasure chest!!! And you hear a faint scream coming from behind one of the other doors... \\nguess the other person wasn't so lucky\")\n",
    "            else:\n",
    "                print(\"\\nGame over! You got into a trap!\")\n",
    "        else:\n",
    "            print(\"\\nWell that why did you come all the way here then? Game over for you!\")\n",
    "    else:\n",
    "        print(\"\\nGame over! The lake is full of piranhas!\")\n",
    "else:\n",
    "    \"\\nGame over! You went straight off a cliff!\""
   ]
  }
 ],
 "metadata": {
  "kernelspec": {
   "display_name": "Python 3.10.6 64-bit",
   "language": "python",
   "name": "python3"
  },
  "language_info": {
   "codemirror_mode": {
    "name": "ipython",
    "version": 3
   },
   "file_extension": ".py",
   "mimetype": "text/x-python",
   "name": "python",
   "nbconvert_exporter": "python",
   "pygments_lexer": "ipython3",
   "version": "3.10.6"
  },
  "orig_nbformat": 4,
  "vscode": {
   "interpreter": {
    "hash": "6b081e19b008d92a32127addf550788886dd0edf34515adf0070e9984498c528"
   }
  }
 },
 "nbformat": 4,
 "nbformat_minor": 2
}
