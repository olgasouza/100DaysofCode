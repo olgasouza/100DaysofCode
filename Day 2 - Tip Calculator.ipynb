{
 "cells": [
  {
   "cell_type": "code",
   "execution_count": null,
   "metadata": {},
   "outputs": [],
   "source": [
    "# DAY 2"
   ]
  },
  {
   "cell_type": "code",
   "execution_count": null,
   "metadata": {},
   "outputs": [],
   "source": [
    "# EXERCISE 1 - DATA TYPES\n",
    "# Write a program that adds the digits in a 2 digit number.\n",
    "# e.g. if the input was 35, then the output should be 3 + 5 = 8\n",
    "\n",
    "two_digit_number = input(\"Type a two digit number: \")\n",
    "first_number = int(two_digit_number[0])\n",
    "second_number = int(two_digit_number[1])\n",
    "print(first_number + second_number)"
   ]
  },
  {
   "cell_type": "code",
   "execution_count": null,
   "metadata": {},
   "outputs": [],
   "source": [
    "# EXERCISE 2 - BMI CALCULATOR\n",
    "# Write a program that calculates the Body Mass Index (BMI) from a user's weight and height.\n",
    "\n",
    "height = input(\"enter your height in m: \")\n",
    "weight = input(\"enter your weight in kg: \")\n",
    "wg = int(weight)\n",
    "ht = float(height)\n",
    "IBM = int(wg / (ht**2))\n",
    "print(IBM)"
   ]
  },
  {
   "cell_type": "code",
   "execution_count": null,
   "metadata": {},
   "outputs": [],
   "source": [
    "# EXERCISE 3 - LIFE IN WEEKS\n",
    "# Create a program using maths and f-Strings that tells us how many days, weeks, months we have left if we live until 90 years old.\n",
    "age = input(\"What is your current age? \")\n",
    "time_left = 90 - int(age) \n",
    "days = time_left * 365\n",
    "weeks = time_left * 52\n",
    "months = time_left * 12\n",
    "print(f\"You have {days} days, {weeks} weeks, and {months} months left.\")"
   ]
  },
  {
   "cell_type": "code",
   "execution_count": null,
   "metadata": {},
   "outputs": [],
   "source": [
    "# PROJECT 2 - TIP CALCULATOR\n",
    "print(\"====WELCOME TO THE TIP CALCULATOR====\")\n",
    "bill = float(input(\"What was the total bill?: \"))\n",
    "tip = int(input(\"What percentage of tip would you like to give?: \"))\n",
    "people = int(input(\"How many people are there to split the bill?: \"))\n",
    "\n",
    "true_bill_value = bill * (1 + (tip / 100))\n",
    "total_each = round((true_bill_value / people), 2)\n",
    "print(f\"\\nEach person should pay ${total_each}\")"
   ]
  }
 ],
 "metadata": {
  "kernelspec": {
   "display_name": "Python 3.10.6 64-bit",
   "language": "python",
   "name": "python3"
  },
  "language_info": {
   "codemirror_mode": {
    "name": "ipython",
    "version": 3
   },
   "file_extension": ".py",
   "mimetype": "text/x-python",
   "name": "python",
   "nbconvert_exporter": "python",
   "pygments_lexer": "ipython3",
   "version": "3.10.6"
  },
  "orig_nbformat": 4,
  "vscode": {
   "interpreter": {
    "hash": "6b081e19b008d92a32127addf550788886dd0edf34515adf0070e9984498c528"
   }
  }
 },
 "nbformat": 4,
 "nbformat_minor": 2
}
